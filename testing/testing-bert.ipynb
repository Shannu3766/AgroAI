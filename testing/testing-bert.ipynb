{
 "cells": [
  {
   "cell_type": "code",
   "execution_count": null,
   "metadata": {},
   "outputs": [],
   "source": []
  },
  {
   "cell_type": "code",
   "execution_count": 3,
   "metadata": {
    "execution": {
     "iopub.execute_input": "2025-06-05T08:30:30.627257Z",
     "iopub.status.busy": "2025-06-05T08:30:30.626920Z",
     "iopub.status.idle": "2025-06-05T08:31:11.691980Z",
     "shell.execute_reply": "2025-06-05T08:31:11.691050Z",
     "shell.execute_reply.started": "2025-06-05T08:30:30.627223Z"
    },
    "trusted": true
   },
   "outputs": [
    {
     "name": "stderr",
     "output_type": "stream",
     "text": [
      "2025-06-05 08:30:50.563444: E external/local_xla/xla/stream_executor/cuda/cuda_fft.cc:477] Unable to register cuFFT factory: Attempting to register factory for plugin cuFFT when one has already been registered\n",
      "WARNING: All log messages before absl::InitializeLog() is called are written to STDERR\n",
      "E0000 00:00:1749112250.865143      35 cuda_dnn.cc:8310] Unable to register cuDNN factory: Attempting to register factory for plugin cuDNN when one has already been registered\n",
      "E0000 00:00:1749112250.938751      35 cuda_blas.cc:1418] Unable to register cuBLAS factory: Attempting to register factory for plugin cuBLAS when one has already been registered\n"
     ]
    },
    {
     "data": {
      "application/vnd.jupyter.widget-view+json": {
       "model_id": "a83bd223923a49b28f6e7b7d22ebee21",
       "version_major": 2,
       "version_minor": 0
      },
      "text/plain": [
       "tokenizer_config.json:   0%|          | 0.00/1.29k [00:00<?, ?B/s]"
      ]
     },
     "metadata": {},
     "output_type": "display_data"
    },
    {
     "data": {
      "application/vnd.jupyter.widget-view+json": {
       "model_id": "9565bbbd704f4f8d9026fa096a1c526c",
       "version_major": 2,
       "version_minor": 0
      },
      "text/plain": [
       "vocab.txt:   0%|          | 0.00/213k [00:00<?, ?B/s]"
      ]
     },
     "metadata": {},
     "output_type": "display_data"
    },
    {
     "data": {
      "application/vnd.jupyter.widget-view+json": {
       "model_id": "3791cd9fdb1945418413b12fdd04cbdf",
       "version_major": 2,
       "version_minor": 0
      },
      "text/plain": [
       "tokenizer.json:   0%|          | 0.00/669k [00:00<?, ?B/s]"
      ]
     },
     "metadata": {},
     "output_type": "display_data"
    },
    {
     "data": {
      "application/vnd.jupyter.widget-view+json": {
       "model_id": "4de6697d78bc42e7b3d9ae57f57a9ccd",
       "version_major": 2,
       "version_minor": 0
      },
      "text/plain": [
       "special_tokens_map.json:   0%|          | 0.00/125 [00:00<?, ?B/s]"
      ]
     },
     "metadata": {},
     "output_type": "display_data"
    },
    {
     "data": {
      "application/vnd.jupyter.widget-view+json": {
       "model_id": "f430dbf7a4014d5c88e2739d54764dd9",
       "version_major": 2,
       "version_minor": 0
      },
      "text/plain": [
       "config.json:   0%|          | 0.00/1.60k [00:00<?, ?B/s]"
      ]
     },
     "metadata": {},
     "output_type": "display_data"
    },
    {
     "data": {
      "application/vnd.jupyter.widget-view+json": {
       "model_id": "029e2081e63a4a91aa539467b71fe782",
       "version_major": 2,
       "version_minor": 0
      },
      "text/plain": [
       "model.safetensors:   0%|          | 0.00/431M [00:00<?, ?B/s]"
      ]
     },
     "metadata": {},
     "output_type": "display_data"
    },
    {
     "name": "stderr",
     "output_type": "stream",
     "text": [
      "Device set to use cpu\n"
     ]
    },
    {
     "name": "stdout",
     "output_type": "stream",
     "text": [
      "NER pipeline running on CPU.\n"
     ]
    }
   ],
   "source": [
    "# Cell 3 - (largely unchanged, ensure transformers is installed)\n",
    "import os\n",
    "import torch\n",
    "from transformers import AutoTokenizer, AutoModelForTokenClassification, pipeline\n",
    "import re\n",
    "import sys\n",
    "\n",
    "MODEL_ID = \"aryan6637/ner_training_with_values\"\n",
    "ENTITY_TYPES = [\n",
    "    \"O\",\n",
    "    \"B-SOIL_TYPE\", \"I-SOIL_TYPE\",\n",
    "    \"B-NUTRIENT\", \"I-NUTRIENT\",\n",
    "    \"B-TEMPERATURE_VALUE\", \"I-TEMPERATURE_VALUE\",\n",
    "    \"B-HUMIDITY_VALUE\", \"I-HUMIDITY_VALUE\",\n",
    "    \"B-MOISTURE_VALUE\", \"I-MOISTURE_VALUE\",\n",
    "    \"B-NITROGEN_VALUE\", \"I-NITROGEN_VALUE\",\n",
    "    \"B-POTASSIUM_VALUE\", \"I-POTASSIUM_VALUE\",\n",
    "    \"B-PHOSPHOROUS_VALUE\", \"I-PHOSPHOROUS_VALUE\"\n",
    "]\n",
    "\n",
    "LABEL_TO_ID = {label: i for i, label in enumerate(ENTITY_TYPES)}\n",
    "ID_TO_LABEL = {i: label for label, i in LABEL_TO_ID.items()}\n",
    "\n",
    "REQUIRED_PARAMS = {\n",
    "    'Temparature': {'ner_tag': 'TEMPERATURE_VALUE', 'type': float, 'prompt': 'Enter Temperature (°C): '},\n",
    "    'Humidity': {'ner_tag': 'HUMIDITY_VALUE', 'type': float, 'prompt': 'Enter Humidity (%): '},\n",
    "    'Moisture': {'ner_tag': 'MOISTURE_VALUE', 'type': float, 'prompt': 'Enter Moisture (units): '},\n",
    "    'Soil Type': {'ner_tag': 'SOIL_TYPE', 'type': str, 'prompt': 'Enter Soil Type: '},\n",
    "    'Nitrogen': {'ner_tag': 'NITROGEN_VALUE', 'type': int, 'prompt': 'Enter Nitrogen (ppm): '},\n",
    "    'Potassium': {'ner_tag': 'POTASSIUM_VALUE', 'type': int, 'prompt': 'Enter Potassium (ppm): '},\n",
    "    'Phosphorous': {'ner_tag': 'PHOSPHOROUS_VALUE', 'type': int, 'prompt': 'Enter Phosphorous (ppm): '},\n",
    "}\n",
    "\n",
    "def clean_numeric_string(value_str):\n",
    "    if value_str is None:\n",
    "        return None\n",
    "    return value_str.replace('%', '').replace('°C', '').replace('C', '').replace('units', '').replace('ppm', '').replace(',', '').strip()\n",
    "\n",
    "def clean_soil_type_string(value_str):\n",
    "    if value_str is None:\n",
    "        return None\n",
    "    return value_str.strip().rstrip(',.').strip()\n",
    "\n",
    "def clean_nutrient_name_string(value_str):\n",
    "    if value_str is None:\n",
    "        return None\n",
    "    return value_str.strip().rstrip(',.').strip()\n",
    "\n",
    "tokenizer_bert = AutoTokenizer.from_pretrained(MODEL_ID)\n",
    "bert_model = AutoModelForTokenClassification.from_pretrained(MODEL_ID) # Renamed 'bert' to 'bert_model' to avoid conflict\n",
    "# Ensure pipeline uses CPU if no GPU is available. `device=-1` forces CPU.\n",
    "# If you have a GPU but want to force CPU: device=-1\n",
    "# Otherwise, it will auto-detect.\n",
    "nlp_device = 0 if torch.cuda.is_available() else -1\n",
    "nlp = pipeline(\"ner\", model=bert_model, tokenizer=tokenizer_bert, aggregation_strategy=\"simple\", device=nlp_device)\n",
    "print(f\"NER pipeline running on {'GPU' if nlp_device == 0 else 'CPU'}.\")"
   ]
  },
  {
   "cell_type": "code",
   "execution_count": 4,
   "metadata": {
    "execution": {
     "iopub.execute_input": "2025-06-05T08:31:11.694641Z",
     "iopub.status.busy": "2025-06-05T08:31:11.693999Z",
     "iopub.status.idle": "2025-06-05T08:31:11.707273Z",
     "shell.execute_reply": "2025-06-05T08:31:11.705804Z",
     "shell.execute_reply.started": "2025-06-05T08:31:11.694608Z"
    },
    "trusted": true
   },
   "outputs": [],
   "source": [
    "\n",
    "def get_parameters(sentence):\n",
    "    if not sentence.strip():\n",
    "        sys.exit(0)\n",
    "\n",
    "    ner_results = nlp(sentence)\n",
    "    extracted_raw_values = {}\n",
    "    detected_nutrient_names = []\n",
    "\n",
    "    for entity in ner_results:\n",
    "        if entity['entity_group'] == 'NUTRIENT':\n",
    "            cleaned_name = clean_nutrient_name_string(entity['word'])\n",
    "            if cleaned_name and cleaned_name.lower() in ['nitrogen', 'n', 'potassium', 'k', 'phosphorous', 'phosphorus', 'p'] and cleaned_name not in detected_nutrient_names:\n",
    "                detected_nutrient_names.append(cleaned_name)\n",
    "\n",
    "        param_name_from_tag = None\n",
    "        for req_param_name, details in REQUIRED_PARAMS.items():\n",
    "            if details['ner_tag'] == entity['entity_group']:\n",
    "                param_name_from_tag = req_param_name\n",
    "                break\n",
    "\n",
    "        if param_name_from_tag and param_name_from_tag not in extracted_raw_values:\n",
    "            extracted_raw_values[param_name_from_tag] = entity['word']\n",
    "\n",
    "    final_parameters = {}\n",
    "    for param_name, details in REQUIRED_PARAMS.items():\n",
    "        ner_tag = details['ner_tag']\n",
    "        expected_type = details['type']\n",
    "        prompt = details['prompt']\n",
    "        raw_value_from_ner = extracted_raw_values.get(param_name)\n",
    "\n",
    "        processed_value = None\n",
    "\n",
    "        if raw_value_from_ner:\n",
    "            cleaned_value_str = clean_numeric_string(raw_value_from_ner) if expected_type in [float, int] else clean_soil_type_string(raw_value_from_ner)\n",
    "            try:\n",
    "                if expected_type == float:\n",
    "                    processed_value = float(cleaned_value_str)\n",
    "                elif expected_type == int:\n",
    "                    processed_value = int(float(cleaned_value_str))\n",
    "                else:\n",
    "                    processed_value = cleaned_value_str\n",
    "            except ValueError:\n",
    "                pass\n",
    "\n",
    "        if processed_value is None:\n",
    "            while True:\n",
    "                manual_input_str = input(prompt)\n",
    "                try:\n",
    "                    if expected_type == float:\n",
    "                        manual_value = float(manual_input_str)\n",
    "                    elif expected_type == int:\n",
    "                        manual_value = int(float(manual_input_str))\n",
    "                    else:\n",
    "                        manual_value = manual_input_str.strip()\n",
    "\n",
    "                    if expected_type != str and manual_value < 0:\n",
    "                        continue\n",
    "\n",
    "                    processed_value = manual_value\n",
    "                    break\n",
    "                except ValueError:\n",
    "                    continue\n",
    "\n",
    "        final_parameters[param_name] = processed_value\n",
    "    return final_parameters\n"
   ]
  },
  {
   "cell_type": "code",
   "execution_count": 5,
   "metadata": {
    "execution": {
     "iopub.execute_input": "2025-06-05T08:31:11.708659Z",
     "iopub.status.busy": "2025-06-05T08:31:11.708249Z",
     "iopub.status.idle": "2025-06-05T08:32:04.783171Z",
     "shell.execute_reply": "2025-06-05T08:32:04.782166Z",
     "shell.execute_reply.started": "2025-06-05T08:31:11.708622Z"
    },
    "trusted": true
   },
   "outputs": [
    {
     "name": "stdout",
     "output_type": "stream",
     "text": [
      "Enter the sentence :  he red soil contains 30 C with soil humidity of 45 % along with nutrient values N: 45 , P:34 , k:33\n",
      "Enter Moisture (units):  12\n"
     ]
    }
   ],
   "source": [
    "parameters = get_parameters(input(\"Enter the sentence : \"))"
   ]
  },
  {
   "cell_type": "code",
   "execution_count": 6,
   "metadata": {
    "execution": {
     "iopub.execute_input": "2025-06-05T08:32:04.784525Z",
     "iopub.status.busy": "2025-06-05T08:32:04.784227Z",
     "iopub.status.idle": "2025-06-05T08:32:04.791431Z",
     "shell.execute_reply": "2025-06-05T08:32:04.790405Z",
     "shell.execute_reply.started": "2025-06-05T08:32:04.784499Z"
    },
    "trusted": true
   },
   "outputs": [
    {
     "data": {
      "text/plain": [
       "{'Temparature': 30.0,\n",
       " 'Humidity': 45.0,\n",
       " 'Moisture': 12.0,\n",
       " 'Soil Type': 'red',\n",
       " 'Nitrogen': 45,\n",
       " 'Potassium': 33,\n",
       " 'Phosphorous': 34}"
      ]
     },
     "execution_count": 6,
     "metadata": {},
     "output_type": "execute_result"
    }
   ],
   "source": [
    "parameters"
   ]
  }
 ],
 "metadata": {
  "kaggle": {
   "accelerator": "none",
   "dataSources": [],
   "dockerImageVersionId": 31040,
   "isGpuEnabled": false,
   "isInternetEnabled": true,
   "language": "python",
   "sourceType": "notebook"
  },
  "kernelspec": {
   "display_name": "Python 3",
   "language": "python",
   "name": "python3"
  },
  "language_info": {
   "codemirror_mode": {
    "name": "ipython",
    "version": 3
   },
   "file_extension": ".py",
   "mimetype": "text/x-python",
   "name": "python",
   "nbconvert_exporter": "python",
   "pygments_lexer": "ipython3",
   "version": "3.11.11"
  }
 },
 "nbformat": 4,
 "nbformat_minor": 4
}
