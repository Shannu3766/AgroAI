{
 "cells": [
  {
   "cell_type": "markdown",
   "id": "dedbd303-55f1-41fe-9b22-6184400a706b",
   "metadata": {},
   "source": [
    "## Crop & Fertilizer Recommendation with Fine-tuned DeepSeek Model\n",
    "\n",
    "This notebook loads the fine-tuned `deepseek-llm-7b-base` model (`aryan6637/deepseek-crop-fertilizer-info-v3`) and performs inference to recommend crop types and fertilizers based on input soil and environmental parameters."
   ]
  },
  {
   "cell_type": "markdown",
   "id": "e9bd4451-e74c-4271-a0ae-fc7899e7bc33",
   "metadata": {},
   "source": [
    "### 1. Installs (if not already installed)"
   ]
  },
  {
   "cell_type": "code",
   "execution_count": 4,
   "id": "d05a45a8-b823-4782-9dc1-9f9f5c6eb51e",
   "metadata": {
    "execution": {
     "iopub.execute_input": "2025-06-05T06:38:36.162906Z",
     "iopub.status.busy": "2025-06-05T06:38:36.162668Z",
     "iopub.status.idle": "2025-06-05T06:38:39.805282Z",
     "shell.execute_reply": "2025-06-05T06:38:39.804539Z",
     "shell.execute_reply.started": "2025-06-05T06:38:36.162873Z"
    },
    "trusted": true
   },
   "outputs": [
    {
     "name": "stdout",
     "output_type": "stream",
     "text": [
      "Requirement already satisfied: unsloth in /usr/local/lib/python3.11/dist-packages (2025.5.9)\n",
      "Requirement already satisfied: unsloth_zoo>=2025.5.11 in /usr/local/lib/python3.11/dist-packages (from unsloth) (2025.5.11)\n",
      "Requirement already satisfied: torch>=2.4.0 in /usr/local/lib/python3.11/dist-packages (from unsloth) (2.7.0)\n",
      "Requirement already satisfied: xformers>=0.0.27.post2 in /usr/local/lib/python3.11/dist-packages (from unsloth) (0.0.30)\n",
      "Requirement already satisfied: bitsandbytes in /usr/local/lib/python3.11/dist-packages (from unsloth) (0.46.0)\n",
      "Requirement already satisfied: triton>=3.0.0 in /usr/local/lib/python3.11/dist-packages (from unsloth) (3.3.0)\n",
      "Requirement already satisfied: packaging in /usr/local/lib/python3.11/dist-packages (from unsloth) (25.0)\n",
      "Requirement already satisfied: tyro in /usr/local/lib/python3.11/dist-packages (from unsloth) (0.9.24)\n",
      "Requirement already satisfied: transformers!=4.47.0,!=4.52.0,!=4.52.1,!=4.52.2,>=4.51.3 in /usr/local/lib/python3.11/dist-packages (from unsloth) (4.51.3)\n",
      "Requirement already satisfied: datasets>=3.4.1 in /usr/local/lib/python3.11/dist-packages (from unsloth) (3.6.0)\n",
      "Requirement already satisfied: sentencepiece>=0.2.0 in /usr/local/lib/python3.11/dist-packages (from unsloth) (0.2.0)\n",
      "Requirement already satisfied: tqdm in /usr/local/lib/python3.11/dist-packages (from unsloth) (4.67.1)\n",
      "Requirement already satisfied: psutil in /usr/local/lib/python3.11/dist-packages (from unsloth) (7.0.0)\n",
      "Requirement already satisfied: wheel>=0.42.0 in /usr/local/lib/python3.11/dist-packages (from unsloth) (0.45.1)\n",
      "Requirement already satisfied: numpy in /usr/local/lib/python3.11/dist-packages (from unsloth) (1.26.4)\n",
      "Requirement already satisfied: accelerate>=0.34.1 in /usr/local/lib/python3.11/dist-packages (from unsloth) (1.5.2)\n",
      "Requirement already satisfied: trl!=0.15.0,!=0.9.0,!=0.9.1,!=0.9.2,!=0.9.3,>=0.7.9 in /usr/local/lib/python3.11/dist-packages (from unsloth) (0.18.1)\n",
      "Requirement already satisfied: peft!=0.11.0,>=0.7.1 in /usr/local/lib/python3.11/dist-packages (from unsloth) (0.14.0)\n",
      "Requirement already satisfied: protobuf<4.0.0 in /usr/local/lib/python3.11/dist-packages (from unsloth) (3.20.3)\n",
      "Requirement already satisfied: huggingface_hub in /usr/local/lib/python3.11/dist-packages (from unsloth) (0.31.1)\n",
      "Requirement already satisfied: hf_transfer in /usr/local/lib/python3.11/dist-packages (from unsloth) (0.1.9)\n",
      "Requirement already satisfied: diffusers in /usr/local/lib/python3.11/dist-packages (from unsloth) (0.32.2)\n",
      "Requirement already satisfied: torchvision in /usr/local/lib/python3.11/dist-packages (from unsloth) (0.22.0)\n",
      "Requirement already satisfied: pyyaml in /usr/local/lib/python3.11/dist-packages (from accelerate>=0.34.1->unsloth) (6.0.2)\n",
      "Requirement already satisfied: safetensors>=0.4.3 in /usr/local/lib/python3.11/dist-packages (from accelerate>=0.34.1->unsloth) (0.5.3)\n",
      "Requirement already satisfied: filelock in /usr/local/lib/python3.11/dist-packages (from datasets>=3.4.1->unsloth) (3.18.0)\n",
      "Requirement already satisfied: pyarrow>=15.0.0 in /usr/local/lib/python3.11/dist-packages (from datasets>=3.4.1->unsloth) (19.0.1)\n",
      "Requirement already satisfied: dill<0.3.9,>=0.3.0 in /usr/local/lib/python3.11/dist-packages (from datasets>=3.4.1->unsloth) (0.3.8)\n",
      "Requirement already satisfied: pandas in /usr/local/lib/python3.11/dist-packages (from datasets>=3.4.1->unsloth) (2.2.3)\n",
      "Requirement already satisfied: requests>=2.32.2 in /usr/local/lib/python3.11/dist-packages (from datasets>=3.4.1->unsloth) (2.32.3)\n",
      "Requirement already satisfied: xxhash in /usr/local/lib/python3.11/dist-packages (from datasets>=3.4.1->unsloth) (3.5.0)\n",
      "Requirement already satisfied: multiprocess<0.70.17 in /usr/local/lib/python3.11/dist-packages (from datasets>=3.4.1->unsloth) (0.70.16)\n",
      "Requirement already satisfied: fsspec<=2025.3.0,>=2023.1.0 in /usr/local/lib/python3.11/dist-packages (from fsspec[http]<=2025.3.0,>=2023.1.0->datasets>=3.4.1->unsloth) (2025.3.0)\n",
      "Requirement already satisfied: typing-extensions>=3.7.4.3 in /usr/local/lib/python3.11/dist-packages (from huggingface_hub->unsloth) (4.13.2)\n",
      "Requirement already satisfied: hf-xet<2.0.0,>=1.1.0 in /usr/local/lib/python3.11/dist-packages (from huggingface_hub->unsloth) (1.1.0)\n",
      "Requirement already satisfied: mkl_fft in /usr/local/lib/python3.11/dist-packages (from numpy->unsloth) (1.3.8)\n",
      "Requirement already satisfied: mkl_random in /usr/local/lib/python3.11/dist-packages (from numpy->unsloth) (1.2.4)\n",
      "Requirement already satisfied: mkl_umath in /usr/local/lib/python3.11/dist-packages (from numpy->unsloth) (0.1.1)\n",
      "Requirement already satisfied: mkl in /usr/local/lib/python3.11/dist-packages (from numpy->unsloth) (2025.1.0)\n",
      "Requirement already satisfied: tbb4py in /usr/local/lib/python3.11/dist-packages (from numpy->unsloth) (2022.1.0)\n",
      "Requirement already satisfied: mkl-service in /usr/local/lib/python3.11/dist-packages (from numpy->unsloth) (2.4.1)\n",
      "Requirement already satisfied: sympy>=1.13.3 in /usr/local/lib/python3.11/dist-packages (from torch>=2.4.0->unsloth) (1.14.0)\n",
      "Requirement already satisfied: networkx in /usr/local/lib/python3.11/dist-packages (from torch>=2.4.0->unsloth) (3.4.2)\n",
      "Requirement already satisfied: jinja2 in /usr/local/lib/python3.11/dist-packages (from torch>=2.4.0->unsloth) (3.1.6)\n",
      "Requirement already satisfied: nvidia-cuda-nvrtc-cu12==12.6.77 in /usr/local/lib/python3.11/dist-packages (from torch>=2.4.0->unsloth) (12.6.77)\n",
      "Requirement already satisfied: nvidia-cuda-runtime-cu12==12.6.77 in /usr/local/lib/python3.11/dist-packages (from torch>=2.4.0->unsloth) (12.6.77)\n",
      "Requirement already satisfied: nvidia-cuda-cupti-cu12==12.6.80 in /usr/local/lib/python3.11/dist-packages (from torch>=2.4.0->unsloth) (12.6.80)\n",
      "Requirement already satisfied: nvidia-cudnn-cu12==9.5.1.17 in /usr/local/lib/python3.11/dist-packages (from torch>=2.4.0->unsloth) (9.5.1.17)\n",
      "Requirement already satisfied: nvidia-cublas-cu12==12.6.4.1 in /usr/local/lib/python3.11/dist-packages (from torch>=2.4.0->unsloth) (12.6.4.1)\n",
      "Requirement already satisfied: nvidia-cufft-cu12==11.3.0.4 in /usr/local/lib/python3.11/dist-packages (from torch>=2.4.0->unsloth) (11.3.0.4)\n",
      "Requirement already satisfied: nvidia-curand-cu12==10.3.7.77 in /usr/local/lib/python3.11/dist-packages (from torch>=2.4.0->unsloth) (10.3.7.77)\n",
      "Requirement already satisfied: nvidia-cusolver-cu12==11.7.1.2 in /usr/local/lib/python3.11/dist-packages (from torch>=2.4.0->unsloth) (11.7.1.2)\n",
      "Requirement already satisfied: nvidia-cusparse-cu12==12.5.4.2 in /usr/local/lib/python3.11/dist-packages (from torch>=2.4.0->unsloth) (12.5.4.2)\n",
      "Requirement already satisfied: nvidia-cusparselt-cu12==0.6.3 in /usr/local/lib/python3.11/dist-packages (from torch>=2.4.0->unsloth) (0.6.3)\n",
      "Requirement already satisfied: nvidia-nccl-cu12==2.26.2 in /usr/local/lib/python3.11/dist-packages (from torch>=2.4.0->unsloth) (2.26.2)\n",
      "Requirement already satisfied: nvidia-nvtx-cu12==12.6.77 in /usr/local/lib/python3.11/dist-packages (from torch>=2.4.0->unsloth) (12.6.77)\n",
      "Requirement already satisfied: nvidia-nvjitlink-cu12==12.6.85 in /usr/local/lib/python3.11/dist-packages (from torch>=2.4.0->unsloth) (12.6.85)\n",
      "Requirement already satisfied: nvidia-cufile-cu12==1.11.1.6 in /usr/local/lib/python3.11/dist-packages (from torch>=2.4.0->unsloth) (1.11.1.6)\n",
      "Requirement already satisfied: setuptools>=40.8.0 in /usr/local/lib/python3.11/dist-packages (from triton>=3.0.0->unsloth) (75.2.0)\n",
      "Requirement already satisfied: regex!=2019.12.17 in /usr/local/lib/python3.11/dist-packages (from transformers!=4.47.0,!=4.52.0,!=4.52.1,!=4.52.2,>=4.51.3->unsloth) (2024.11.6)\n",
      "Requirement already satisfied: tokenizers<0.22,>=0.21 in /usr/local/lib/python3.11/dist-packages (from transformers!=4.47.0,!=4.52.0,!=4.52.1,!=4.52.2,>=4.51.3->unsloth) (0.21.1)\n",
      "Requirement already satisfied: cut_cross_entropy in /usr/local/lib/python3.11/dist-packages (from unsloth_zoo>=2025.5.11->unsloth) (25.1.1)\n",
      "Requirement already satisfied: pillow in /usr/local/lib/python3.11/dist-packages (from unsloth_zoo>=2025.5.11->unsloth) (11.1.0)\n",
      "Requirement already satisfied: msgspec in /usr/local/lib/python3.11/dist-packages (from unsloth_zoo>=2025.5.11->unsloth) (0.19.0)\n",
      "Requirement already satisfied: importlib-metadata in /usr/local/lib/python3.11/dist-packages (from diffusers->unsloth) (8.7.0)\n",
      "Requirement already satisfied: docstring-parser>=0.15 in /usr/local/lib/python3.11/dist-packages (from tyro->unsloth) (0.16)\n",
      "Requirement already satisfied: rich>=11.1.0 in /usr/local/lib/python3.11/dist-packages (from tyro->unsloth) (14.0.0)\n",
      "Requirement already satisfied: shtab>=1.5.6 in /usr/local/lib/python3.11/dist-packages (from tyro->unsloth) (1.7.2)\n",
      "Requirement already satisfied: typeguard>=4.0.0 in /usr/local/lib/python3.11/dist-packages (from tyro->unsloth) (4.4.2)\n",
      "Requirement already satisfied: aiohttp!=4.0.0a0,!=4.0.0a1 in /usr/local/lib/python3.11/dist-packages (from fsspec[http]<=2025.3.0,>=2023.1.0->datasets>=3.4.1->unsloth) (3.11.18)\n",
      "Requirement already satisfied: charset-normalizer<4,>=2 in /usr/local/lib/python3.11/dist-packages (from requests>=2.32.2->datasets>=3.4.1->unsloth) (3.4.2)\n",
      "Requirement already satisfied: idna<4,>=2.5 in /usr/local/lib/python3.11/dist-packages (from requests>=2.32.2->datasets>=3.4.1->unsloth) (3.10)\n",
      "Requirement already satisfied: urllib3<3,>=1.21.1 in /usr/local/lib/python3.11/dist-packages (from requests>=2.32.2->datasets>=3.4.1->unsloth) (2.4.0)\n",
      "Requirement already satisfied: certifi>=2017.4.17 in /usr/local/lib/python3.11/dist-packages (from requests>=2.32.2->datasets>=3.4.1->unsloth) (2025.4.26)\n",
      "Requirement already satisfied: markdown-it-py>=2.2.0 in /usr/local/lib/python3.11/dist-packages (from rich>=11.1.0->tyro->unsloth) (3.0.0)\n",
      "Requirement already satisfied: pygments<3.0.0,>=2.13.0 in /usr/local/lib/python3.11/dist-packages (from rich>=11.1.0->tyro->unsloth) (2.19.1)\n",
      "Requirement already satisfied: mpmath<1.4,>=1.1.0 in /usr/local/lib/python3.11/dist-packages (from sympy>=1.13.3->torch>=2.4.0->unsloth) (1.3.0)\n",
      "Requirement already satisfied: zipp>=3.20 in /usr/local/lib/python3.11/dist-packages (from importlib-metadata->diffusers->unsloth) (3.21.0)\n",
      "Requirement already satisfied: MarkupSafe>=2.0 in /usr/local/lib/python3.11/dist-packages (from jinja2->torch>=2.4.0->unsloth) (3.0.2)\n",
      "Requirement already satisfied: intel-openmp<2026,>=2024 in /usr/local/lib/python3.11/dist-packages (from mkl->numpy->unsloth) (2024.2.0)\n",
      "Requirement already satisfied: tbb==2022.* in /usr/local/lib/python3.11/dist-packages (from mkl->numpy->unsloth) (2022.1.0)\n",
      "Requirement already satisfied: tcmlib==1.* in /usr/local/lib/python3.11/dist-packages (from tbb==2022.*->mkl->numpy->unsloth) (1.3.0)\n",
      "Requirement already satisfied: intel-cmplr-lib-rt in /usr/local/lib/python3.11/dist-packages (from mkl_umath->numpy->unsloth) (2024.2.0)\n",
      "Requirement already satisfied: python-dateutil>=2.8.2 in /usr/local/lib/python3.11/dist-packages (from pandas->datasets>=3.4.1->unsloth) (2.9.0.post0)\n",
      "Requirement already satisfied: pytz>=2020.1 in /usr/local/lib/python3.11/dist-packages (from pandas->datasets>=3.4.1->unsloth) (2025.2)\n",
      "Requirement already satisfied: tzdata>=2022.7 in /usr/local/lib/python3.11/dist-packages (from pandas->datasets>=3.4.1->unsloth) (2025.2)\n",
      "Requirement already satisfied: aiohappyeyeballs>=2.3.0 in /usr/local/lib/python3.11/dist-packages (from aiohttp!=4.0.0a0,!=4.0.0a1->fsspec[http]<=2025.3.0,>=2023.1.0->datasets>=3.4.1->unsloth) (2.6.1)\n",
      "Requirement already satisfied: aiosignal>=1.1.2 in /usr/local/lib/python3.11/dist-packages (from aiohttp!=4.0.0a0,!=4.0.0a1->fsspec[http]<=2025.3.0,>=2023.1.0->datasets>=3.4.1->unsloth) (1.3.2)\n",
      "Requirement already satisfied: attrs>=17.3.0 in /usr/local/lib/python3.11/dist-packages (from aiohttp!=4.0.0a0,!=4.0.0a1->fsspec[http]<=2025.3.0,>=2023.1.0->datasets>=3.4.1->unsloth) (25.3.0)\n",
      "Requirement already satisfied: frozenlist>=1.1.1 in /usr/local/lib/python3.11/dist-packages (from aiohttp!=4.0.0a0,!=4.0.0a1->fsspec[http]<=2025.3.0,>=2023.1.0->datasets>=3.4.1->unsloth) (1.6.0)\n",
      "Requirement already satisfied: multidict<7.0,>=4.5 in /usr/local/lib/python3.11/dist-packages (from aiohttp!=4.0.0a0,!=4.0.0a1->fsspec[http]<=2025.3.0,>=2023.1.0->datasets>=3.4.1->unsloth) (6.4.3)\n",
      "Requirement already satisfied: propcache>=0.2.0 in /usr/local/lib/python3.11/dist-packages (from aiohttp!=4.0.0a0,!=4.0.0a1->fsspec[http]<=2025.3.0,>=2023.1.0->datasets>=3.4.1->unsloth) (0.3.1)\n",
      "Requirement already satisfied: yarl<2.0,>=1.17.0 in /usr/local/lib/python3.11/dist-packages (from aiohttp!=4.0.0a0,!=4.0.0a1->fsspec[http]<=2025.3.0,>=2023.1.0->datasets>=3.4.1->unsloth) (1.20.0)\n",
      "Requirement already satisfied: intel-cmplr-lib-ur==2024.2.0 in /usr/local/lib/python3.11/dist-packages (from intel-openmp<2026,>=2024->mkl->numpy->unsloth) (2024.2.0)\n",
      "Requirement already satisfied: mdurl~=0.1 in /usr/local/lib/python3.11/dist-packages (from markdown-it-py>=2.2.0->rich>=11.1.0->tyro->unsloth) (0.1.2)\n",
      "Requirement already satisfied: six>=1.5 in /usr/local/lib/python3.11/dist-packages (from python-dateutil>=2.8.2->pandas->datasets>=3.4.1->unsloth) (1.17.0)\n"
     ]
    }
   ],
   "source": [
    "!pip install unsloth"
   ]
  },
  {
   "cell_type": "markdown",
   "id": "15dfe1f8-d402-4dc2-9185-d532ee35ed0d",
   "metadata": {},
   "source": [
    "### 2. Imports"
   ]
  },
  {
   "cell_type": "code",
   "execution_count": 2,
   "id": "6ff7944c-7f3f-4c4a-97de-33b7e17234cf",
   "metadata": {
    "execution": {
     "iopub.execute_input": "2025-06-05T06:37:46.846176Z",
     "iopub.status.busy": "2025-06-05T06:37:46.845601Z",
     "iopub.status.idle": "2025-06-05T06:38:32.120478Z",
     "shell.execute_reply": "2025-06-05T06:38:32.119744Z",
     "shell.execute_reply.started": "2025-06-05T06:37:46.846140Z"
    },
    "trusted": true
   },
   "outputs": [
    {
     "name": "stdout",
     "output_type": "stream",
     "text": [
      "🦥 Unsloth: Will patch your computer to enable 2x faster free finetuning.\n"
     ]
    },
    {
     "name": "stderr",
     "output_type": "stream",
     "text": [
      "2025-06-05 06:38:04.741405: E external/local_xla/xla/stream_executor/cuda/cuda_fft.cc:477] Unable to register cuFFT factory: Attempting to register factory for plugin cuFFT when one has already been registered\n",
      "WARNING: All log messages before absl::InitializeLog() is called are written to STDERR\n",
      "E0000 00:00:1749105485.168117      35 cuda_dnn.cc:8310] Unable to register cuDNN factory: Attempting to register factory for plugin cuDNN when one has already been registered\n",
      "E0000 00:00:1749105485.293503      35 cuda_blas.cc:1418] Unable to register cuBLAS factory: Attempting to register factory for plugin cuBLAS when one has already been registered\n"
     ]
    },
    {
     "name": "stdout",
     "output_type": "stream",
     "text": [
      "🦥 Unsloth Zoo will now patch everything to make training faster!\n",
      "Unsloth version: 2025.5.9\n",
      "PyTorch version: 2.7.0+cu126\n"
     ]
    }
   ],
   "source": [
    "import unsloth\n",
    "import torch\n",
    "from unsloth import FastLanguageModel\n",
    "import pickle\n",
    "import os\n",
    "from huggingface_hub import hf_hub_download, login\n",
    "\n",
    "print(f\"Unsloth version: {unsloth.__version__}\")\n",
    "print(f\"PyTorch version: {torch.__version__}\")"
   ]
  },
  {
   "cell_type": "markdown",
   "id": "4a861f66-c21c-49df-b5b7-48a270407770",
   "metadata": {},
   "source": [
    "### 3. Hugging Face Login (Optional)\n",
    "Required if your model repository is private or if you need to interact with the Hub in other ways. For public models, this might not be strictly necessary for downloading."
   ]
  },
  {
   "cell_type": "code",
   "execution_count": null,
   "id": "f94c3515-770d-4246-b48b-2c500ce1ee2f",
   "metadata": {},
   "outputs": [],
   "source": [
    "# Replace 'YOUR_HF_TOKEN_HERE' with your actual Hugging Face token if needed\n",
    "# hf_token = \"YOUR_HF_TOKEN_HERE\" \n",
    "# login(token=hf_token)"
   ]
  },
  {
   "cell_type": "markdown",
   "id": "c30ebda8-3417-469f-bb43-f7ee82f2675b",
   "metadata": {},
   "source": [
    "### 4. Model Loading Configuration"
   ]
  },
  {
   "cell_type": "code",
   "execution_count": 5,
   "id": "ec95fe7b-84f9-4ec1-949f-9ee4e6c6c709",
   "metadata": {
    "execution": {
     "iopub.execute_input": "2025-06-05T06:38:55.146408Z",
     "iopub.status.busy": "2025-06-05T06:38:55.145587Z",
     "iopub.status.idle": "2025-06-05T06:38:55.150624Z",
     "shell.execute_reply": "2025-06-05T06:38:55.149770Z",
     "shell.execute_reply.started": "2025-06-05T06:38:55.146377Z"
    },
    "trusted": true
   },
   "outputs": [],
   "source": [
    "model_repo_id = \"aryan6637/deepseek-crop-fertilizer-info-v3\"\n",
    "max_seq_length = 1024  # Must match the max_seq_length used during training\n",
    "dtype = None  # Autodetect (will be float16 for T4/V100, bfloat16 for A100)\n",
    "load_in_4bit = True  # Use 4-bit quantization to save memory"
   ]
  },
  {
   "cell_type": "markdown",
   "id": "d4b1900e-aecf-4cfd-b00b-112a795cd934",
   "metadata": {},
   "source": [
    "### 5. Load Model and Tokenizer\n",
    "Unsloth's `FastLanguageModel` will load the base model and automatically apply the LoRA adapters from your Hugging Face repository."
   ]
  },
  {
   "cell_type": "code",
   "execution_count": 6,
   "id": "a1d1e306-a945-4bc0-81b7-5e4fcef11740",
   "metadata": {
    "execution": {
     "iopub.execute_input": "2025-06-05T06:38:56.485392Z",
     "iopub.status.busy": "2025-06-05T06:38:56.484690Z",
     "iopub.status.idle": "2025-06-05T06:40:55.763322Z",
     "shell.execute_reply": "2025-06-05T06:40:55.762664Z",
     "shell.execute_reply.started": "2025-06-05T06:38:56.485365Z"
    },
    "trusted": true
   },
   "outputs": [
    {
     "name": "stdout",
     "output_type": "stream",
     "text": [
      "Loading model from aryan6637/deepseek-crop-fertilizer-info-v3...\n",
      "==((====))==  Unsloth 2025.5.9: Fast Llama patching. Transformers: 4.51.3.\n",
      "   \\\\   /|    Tesla T4. Num GPUs = 2. Max memory: 14.741 GB. Platform: Linux.\n",
      "O^O/ \\_/ \\    Torch: 2.7.0+cu126. CUDA: 7.5. CUDA Toolkit: 12.6. Triton: 3.3.0\n",
      "\\        /    Bfloat16 = FALSE. FA [Xformers = 0.0.30. FA2 = False]\n",
      " \"-____-\"     Free license: http://github.com/unslothai/unsloth\n",
      "Unsloth: Fast downloading is enabled - ignore downloading bars which are red colored!\n"
     ]
    },
    {
     "data": {
      "application/vnd.jupyter.widget-view+json": {
       "model_id": "8698ea737bcb43d198c1be46ffb4c1d1",
       "version_major": 2,
       "version_minor": 0
      },
      "text/plain": [
       "pytorch_model.bin.index.json:   0%|          | 0.00/22.5k [00:00<?, ?B/s]"
      ]
     },
     "metadata": {},
     "output_type": "display_data"
    },
    {
     "data": {
      "application/vnd.jupyter.widget-view+json": {
       "model_id": "875d32a88d084f94a57fab48347c7b29",
       "version_major": 2,
       "version_minor": 0
      },
      "text/plain": [
       "pytorch_model-00001-of-00002.bin:   0%|          | 0.00/9.97G [00:00<?, ?B/s]"
      ]
     },
     "metadata": {},
     "output_type": "display_data"
    },
    {
     "data": {
      "application/vnd.jupyter.widget-view+json": {
       "model_id": "03410ce5dd7946d39a1d1d81b41d732e",
       "version_major": 2,
       "version_minor": 0
      },
      "text/plain": [
       "model.safetensors.index.json:   0%|          | 0.00/23.6k [00:00<?, ?B/s]"
      ]
     },
     "metadata": {},
     "output_type": "display_data"
    },
    {
     "data": {
      "application/vnd.jupyter.widget-view+json": {
       "model_id": "8fb7e9f38526438e965bf67ab9875eea",
       "version_major": 2,
       "version_minor": 0
      },
      "text/plain": [
       "pytorch_model-00002-of-00002.bin:   0%|          | 0.00/3.85G [00:00<?, ?B/s]"
      ]
     },
     "metadata": {},
     "output_type": "display_data"
    },
    {
     "data": {
      "application/vnd.jupyter.widget-view+json": {
       "model_id": "83c9b77354474517a1083bf325642976",
       "version_major": 2,
       "version_minor": 0
      },
      "text/plain": [
       "Loading checkpoint shards:   0%|          | 0/2 [00:00<?, ?it/s]"
      ]
     },
     "metadata": {},
     "output_type": "display_data"
    },
    {
     "data": {
      "application/vnd.jupyter.widget-view+json": {
       "model_id": "fc1c1f0cde8b4d7a9bc6f17f5657cc79",
       "version_major": 2,
       "version_minor": 0
      },
      "text/plain": [
       "generation_config.json:   0%|          | 0.00/121 [00:00<?, ?B/s]"
      ]
     },
     "metadata": {},
     "output_type": "display_data"
    },
    {
     "data": {
      "application/vnd.jupyter.widget-view+json": {
       "model_id": "9c616c41f5c842e686fbf887884cc1e9",
       "version_major": 2,
       "version_minor": 0
      },
      "text/plain": [
       "tokenizer_config.json:   0%|          | 0.00/792 [00:00<?, ?B/s]"
      ]
     },
     "metadata": {},
     "output_type": "display_data"
    },
    {
     "data": {
      "application/vnd.jupyter.widget-view+json": {
       "model_id": "04ccff254fa74369b543861832f2fbe0",
       "version_major": 2,
       "version_minor": 0
      },
      "text/plain": [
       "tokenizer.json:   0%|          | 0.00/4.61M [00:00<?, ?B/s]"
      ]
     },
     "metadata": {},
     "output_type": "display_data"
    },
    {
     "name": "stdout",
     "output_type": "stream",
     "text": [
      "deepseek-ai/deepseek-llm-7b-base does not have a padding token! Will use pad_token = <|PAD_TOKEN|>.\n"
     ]
    },
    {
     "data": {
      "application/vnd.jupyter.widget-view+json": {
       "model_id": "296ee5c781d44282b2af636f68ee8c38",
       "version_major": 2,
       "version_minor": 0
      },
      "text/plain": [
       "adapter_model.safetensors:   0%|          | 0.00/150M [00:00<?, ?B/s]"
      ]
     },
     "metadata": {},
     "output_type": "display_data"
    },
    {
     "name": "stderr",
     "output_type": "stream",
     "text": [
      "Unsloth 2025.5.9 patched 30 layers with 0 QKV layers, 0 O layers and 0 MLP layers.\n"
     ]
    },
    {
     "name": "stdout",
     "output_type": "stream",
     "text": [
      "Model and tokenizer loaded successfully.\n",
      "Pad token: <|PAD_TOKEN|>, ID: 100015\n",
      "EOS token: <｜end▁of▁sentence｜>, ID: 100001\n"
     ]
    }
   ],
   "source": [
    "print(f\"Loading model from {model_repo_id}...\")\n",
    "model, tokenizer = FastLanguageModel.from_pretrained(\n",
    "    model_name=model_repo_id,\n",
    "    max_seq_length=max_seq_length,\n",
    "    dtype=dtype,\n",
    "    load_in_4bit=load_in_4bit,\n",
    "    # token=hf_token, # Add your token here if the model is private\n",
    ")\n",
    "print(\"Model and tokenizer loaded successfully.\")\n",
    "\n",
    "# Ensure pad token is set (Unsloth usually handles this, but good to double-check)\n",
    "if tokenizer.pad_token is None:\n",
    "    print(\"Tokenizer does not have a pad token. Setting to eos_token.\")\n",
    "    tokenizer.pad_token = tokenizer.eos_token\n",
    "    # Update model config if necessary, though FastLanguageModel might handle this\n",
    "    model.config.pad_token_id = tokenizer.pad_token_id\n",
    "\n",
    "print(f\"Pad token: {tokenizer.pad_token}, ID: {tokenizer.pad_token_id}\")\n",
    "print(f\"EOS token: {tokenizer.eos_token}, ID: {tokenizer.eos_token_id}\")"
   ]
  },
  {
   "cell_type": "code",
   "execution_count": 8,
   "id": "a97dc843-d8da-4daa-9b2c-e4c590c6283b",
   "metadata": {
    "execution": {
     "iopub.execute_input": "2025-06-05T06:48:43.609404Z",
     "iopub.status.busy": "2025-06-05T06:48:43.609094Z",
     "iopub.status.idle": "2025-06-05T06:48:43.614075Z",
     "shell.execute_reply": "2025-06-05T06:48:43.613272Z",
     "shell.execute_reply.started": "2025-06-05T06:48:43.609383Z"
    },
    "trusted": true
   },
   "outputs": [],
   "source": [
    "def format_inference_prompt(final_parameters):\n",
    "    instruction_text = (\n",
    "        f\"Given the following soil and environmental parameters:\\n\"\n",
    "        f\"- Temperature: {final_parameters['Temparature']}°C\\n\"\n",
    "        f\"- Humidity: {final_parameters['Humidity']}%\\n\"\n",
    "        f\"- Moisture: {final_parameters['Moisture']}\\n\"\n",
    "        f\"- Soil Type: {final_parameters['Soil Type']}\\n\"\n",
    "        f\"- Nitrogen: {final_parameters['Nitrogen']} ppm\\n\"\n",
    "        f\"- Potassium: {final_parameters['Potassium']} ppm\\n\"\n",
    "        f\"- Phosphorous: {final_parameters['Phosphorous']} ppm\\n\\n\"\n",
    "        f\"Predict the suitable Crop Type and Fertilizer Name, and provide brief information about how they work or their characteristics.\"\n",
    "    )\n",
    "    # Alpaca format - the model was trained to generate text after \"### Response:\\n\"\n",
    "    formatted_prompt = f\"### Instruction:\\n{instruction_text}\\n\\n### Response:\\n\"\n",
    "    return formatted_prompt"
   ]
  },
  {
   "cell_type": "markdown",
   "id": "fe7d85c3-b46e-48e0-811a-504947a9b680",
   "metadata": {},
   "source": [
    "### 8. Perform Inference"
   ]
  },
  {
   "cell_type": "code",
   "execution_count": 9,
   "id": "4e903c30-e418-4138-9c7f-22a5049aac73",
   "metadata": {
    "execution": {
     "iopub.execute_input": "2025-06-05T06:49:04.904363Z",
     "iopub.status.busy": "2025-06-05T06:49:04.904093Z",
     "iopub.status.idle": "2025-06-05T06:49:12.170289Z",
     "shell.execute_reply": "2025-06-05T06:49:12.169579Z",
     "shell.execute_reply.started": "2025-06-05T06:49:04.904343Z"
    },
    "trusted": true
   },
   "outputs": [
    {
     "name": "stdout",
     "output_type": "stream",
     "text": [
      "Model moved to GPU.\n",
      "\n",
      "Generating response...\n",
      "\n",
      "--- Full Generated Text (with prompt) ---\n",
      "### Instruction:\n",
      "Given the following soil and environmental parameters:\n",
      "- Temperature: 30.0°C\n",
      "- Humidity: 45.0%\n",
      "- Moisture: 12.0\n",
      "- Soil Type: red\n",
      "- Nitrogen: 45 ppm\n",
      "- Potassium: 33 ppm\n",
      "- Phosphorous: 34 ppm\n",
      "\n",
      "Predict the suitable Crop Type and Fertilizer Name, and provide brief information about how they work or their characteristics.\n",
      "\n",
      "### Response:\n",
      "Recommended Crop Type: Millets\n",
      "Recommended Fertilizer: 14-35-14\n",
      "\n",
      "\n",
      "--- Model's Recommendation ---\n",
      "Recommended Crop Type: Millets\n",
      "Recommended Fertilizer: 14-35-14\n"
     ]
    }
   ],
   "source": [
    "# Move model to GPU if available\n",
    "if torch.cuda.is_available():\n",
    "    model.to(\"cuda\")\n",
    "    print(\"Model moved to GPU.\")\n",
    "else:\n",
    "    print(\"CUDA not available. Running on CPU. This might be very slow.\")\n",
    "\n",
    "# final_parameters={'Temparature': 45.0,\n",
    "#  'Humidity': 45.0,\n",
    "#  'Moisture': 23.0,\n",
    "#  'Soil Type': 'red',\n",
    "#  'Nitrogen': 45,\n",
    "#  'Potassium': 45,\n",
    "#  'Phosphorous': 34}\n",
    "\n",
    "# Format the prompt using the function\n",
    "final_parameters = {'Temparature': 30.0,\n",
    " 'Humidity': 45.0,\n",
    " 'Moisture': 12.0,\n",
    " 'Soil Type': 'red',\n",
    " 'Nitrogen': 45,\n",
    " 'Potassium': 33,\n",
    " 'Phosphorous': 34}\n",
    "inference_prompt = format_inference_prompt(final_parameters)\n",
    "# Tokenize the prompt\n",
    "device = \"cuda\" if torch.cuda.is_available() else \"cpu\"\n",
    "inputs = tokenizer(inference_prompt, return_tensors=\"pt\").to(device)\n",
    "\n",
    "# Generate response\n",
    "print(\"\\nGenerating response...\")\n",
    "with torch.no_grad(): # Ensure no gradients are calculated during inference\n",
    "    outputs = model.generate(\n",
    "        **inputs,\n",
    "        max_new_tokens=150,  # Adjust based on expected output length (crop name + fertilizer name + brief info)\n",
    "        eos_token_id=tokenizer.eos_token_id,\n",
    "        pad_token_id=tokenizer.pad_token_id if tokenizer.pad_token_id is not None else tokenizer.eos_token_id,\n",
    "        do_sample=True,      # Set to True for more creative/varied responses\n",
    "        temperature=0.6,     # Lower for more factual, higher for more random (0.1-1.0)\n",
    "        top_p=0.9,           # Nucleus sampling: considers the smallest set of tokens whose cumulative probability exceeds top_p\n",
    "        # num_beams=1,       # Use 1 for greedy/sampling, >1 for beam search (slower but can be better)\n",
    "    )\n",
    "\n",
    "# Decode and print the full generated text (including prompt)\n",
    "full_response_text = tokenizer.decode(outputs[0], skip_special_tokens=True)\n",
    "print(\"\\n--- Full Generated Text (with prompt) ---\")\n",
    "print(full_response_text)\n",
    "\n",
    "# Extract only the newly generated part (the actual response)\n",
    "response_only_text = full_response_text[len(inference_prompt):].strip()\n",
    "print(\"\\n--- Model's Recommendation ---\")\n",
    "print(response_only_text)"
   ]
  },
  {
   "cell_type": "markdown",
   "id": "46f4db34-a651-4fbf-b4a5-20d676fb82a9",
   "metadata": {},
   "source": [
    "### 9. Interactive Inference Loop (Optional)\n",
    "You can uncomment and run the cell below to interactively provide input and get recommendations."
   ]
  }
 ],
 "metadata": {
  "kaggle": {
   "accelerator": "nvidiaTeslaT4",
   "dataSources": [],
   "dockerImageVersionId": 31040,
   "isGpuEnabled": true,
   "isInternetEnabled": true,
   "language": "python",
   "sourceType": "notebook"
  },
  "kernelspec": {
   "display_name": "Python 3",
   "language": "python",
   "name": "python3"
  },
  "language_info": {
   "codemirror_mode": {
    "name": "ipython",
    "version": 3
   },
   "file_extension": ".py",
   "mimetype": "text/x-python",
   "name": "python",
   "nbconvert_exporter": "python",
   "pygments_lexer": "ipython3",
   "version": "3.11.11"
  }
 },
 "nbformat": 4,
 "nbformat_minor": 5
}
