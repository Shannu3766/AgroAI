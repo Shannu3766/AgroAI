{
 "cells": [
  {
   "cell_type": "code",
   "execution_count": null,
   "id": "ab6fe02d",
   "metadata": {},
   "outputs": [],
   "source": []
  },
  {
   "cell_type": "code",
   "execution_count": 1,
   "id": "3dd28dfd",
   "metadata": {},
   "outputs": [],
   "source": [
    "connection = [[1, 0]]"
   ]
  },
  {
   "cell_type": "code",
   "execution_count": 2,
   "id": "b2a76ea0",
   "metadata": {},
   "outputs": [
    {
     "name": "stdout",
     "output_type": "stream",
     "text": [
      "[1, 0]\n"
     ]
    }
   ],
   "source": [
    "graph = {}\n",
    "indegree = {}\n",
    "\n",
    "for _from,_to in connection:\n",
    "    if _from not in graph:\n",
    "        graph[_from] = []\n",
    "        indegree[_from] = 0 \n",
    "    if _to not in graph:\n",
    "        graph[_to] = []\n",
    "        indegree[_to] = 0\n",
    "    graph[_from].append(_to)\n",
    "    indegree[_to] +=1\n",
    "\n",
    "def toposort(indegree,graph,path):\n",
    "    if not graph:\n",
    "        print(path)\n",
    "        return\n",
    "    for node in indegree:\n",
    "        if indegree[node] == 0:\n",
    "            new_degree = indegree.copy()\n",
    "            new_graph = graph.copy()\n",
    "            new_path = path.copy()\n",
    "            for destination in graph[node]:\n",
    "                new_degree[destination] -=1\n",
    "            del new_degree[node]\n",
    "            del new_graph[node]\n",
    "            new_path.append(node)\n",
    "            # print(node,new_degree,new_graph,new_path)\n",
    "            toposort(new_degree,new_graph,new_path)\n",
    "        # break\n",
    "toposort(indegree=indegree,graph=graph,path=[])"
   ]
  },
  {
   "cell_type": "code",
   "execution_count": 15,
   "id": "99308547",
   "metadata": {},
   "outputs": [
    {
     "data": {
      "text/plain": [
       "False"
      ]
     },
     "execution_count": 15,
     "metadata": {},
     "output_type": "execute_result"
    }
   ],
   "source": [
    "class Solution:\n",
    "    def canFinish(self, numCourses, prerequisites):\n",
    "        graph = {}\n",
    "        for _from,_to in prerequisites:\n",
    "            if _from not in graph:\n",
    "                graph[_from] = []\n",
    "            graph[_from].append(_to)\n",
    "        out = False\n",
    "        taken = set()\n",
    "        def dfs(course):\n",
    "            if not course in graph:\n",
    "                return True\n",
    "            if course in taken:\n",
    "                return False\n",
    "            \n",
    "            taken.add(course)\n",
    "            for p in graph[course]:\n",
    "                if not dfs(p):\n",
    "                    return False\n",
    "            graph[course] = []\n",
    "            return True\n",
    "        \n",
    "        for course in range(numCourses):\n",
    "            if not dfs(course):\n",
    "                return False\n",
    "        return True\n",
    "\n",
    "A=Solution()\n",
    "A.canFinish(2,[[6,27],[83,9],[10,95],[48,67],[5,71],[18,72],[7,10],[92,4],[68,84],[6,41],[82,41],[18,54],[0,2],[1,2],[8,65],[47,85],[39,51],[13,78],[77,50],[70,56],[5,61],[26,56],[18,19],[35,49],[79,53],[40,22],[8,19],[60,56],[48,50],[20,70],[35,12],[99,85],[12,75],[2,36],[36,22],[21,15],[98,1],[34,94],[25,41],[65,17],[1,56],[43,96],[74,57],[19,62],[62,78],[50,86],[46,22],[10,13],[47,18],[20,66],[83,66],[51,47],[23,66],[87,42],[25,81],[60,81],[25,93],[35,89],[65,92],[87,39],[12,43],[75,73],[28,96],[47,55],[18,11],[29,58],[78,61],[62,75],[60,77],[13,46],[97,92],[4,64],[91,47],[58,66],[72,74],[28,17],[29,98],[53,66],[37,5],[38,12],[44,98],[24,31],[68,23],[86,52],[79,49],[32,25],[90,18],[16,57],[60,74],[81,73],[26,10],[54,26],[57,58],[46,47],[66,54],[52,25],[62,91],[6,72],[81,72],[50,35],[59,87],[21,3],[4,92],[70,12],[48,4],[9,23],[52,55],[43,59],[49,26],[25,90],[52,0],[55,8],[7,23],[97,41],[0,40],[69,47],[73,68],[10,6],[47,9],[64,24],[95,93],[79,66],[77,21],[80,69],[85,5],[24,48],[74,31],[80,76],[81,27],[71,94],[47,82],[3,24],[66,61],[52,13],[18,38],[1,35],[32,78],[7,58],[26,58],[64,47],[60,6],[62,5],[5,22],[60,54],[49,40],[11,56],[19,85],[65,58],[88,44],[86,58]])"
   ]
  },
  {
   "cell_type": "code",
   "execution_count": null,
   "id": "31951f32",
   "metadata": {},
   "outputs": [
    {
     "name": "stdout",
     "output_type": "stream",
     "text": [
      "{1: 0, 0: 1}\n"
     ]
    },
    {
     "data": {
      "text/plain": [
       "False"
      ]
     },
     "execution_count": 23,
     "metadata": {},
     "output_type": "execute_result"
    }
   ],
   "source": []
  },
  {
   "cell_type": "code",
   "execution_count": null,
   "id": "f49bf719",
   "metadata": {},
   "outputs": [],
   "source": []
  }
 ],
 "metadata": {
  "kernelspec": {
   "display_name": "Python 3",
   "language": "python",
   "name": "python3"
  },
  "language_info": {
   "codemirror_mode": {
    "name": "ipython",
    "version": 3
   },
   "file_extension": ".py",
   "mimetype": "text/x-python",
   "name": "python",
   "nbconvert_exporter": "python",
   "pygments_lexer": "ipython3",
   "version": "3.11.5"
  }
 },
 "nbformat": 4,
 "nbformat_minor": 5
}
